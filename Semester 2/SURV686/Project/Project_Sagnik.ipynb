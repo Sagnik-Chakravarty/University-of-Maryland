{
  "cells": [
    {
      "cell_type": "raw",
      "metadata": {},
      "source": [
        "---\n",
        "title: \"Prediction of risk of heart disease\"\n",
        "author: \"Sagnik Chakravarty\"\n",
        "format:\n",
        "  pdf:\n",
        "    documentclass: article\n",
        "    classoption: [twocolumn]\n",
        "    geometry: top=0.2in, bottom=0.2in, left=0.2in, right=0.2in\n",
        "    include-in-header:\n",
        "      text: |\n",
        "        \\usepackage{ltablex} % Alternative for longtable\n",
        "toc: True\n",
        "lot: True\n",
        "lof: True\n",
        "---"
      ],
      "id": "ef3d782e"
    },
    {
      "cell_type": "markdown",
      "metadata": {},
      "source": [
        "# Introduction\n",
        "\n",
        "The goal of this project is to predict the risk of suffering Coronary Heart Disease (CHD) based on factors like smoking, cholesterol level, family history, body mass etc. We would be using Logistic model for this project.\n",
        "\n",
        "# Data\n",
        "\n",
        "The data contains 420 datapoints and 10 features, the variable name, the variable name are as follows:\\\n",
        "\n",
        "\n",
        "```{tex}\n",
        "\\begin{table*}[h]\n",
        "\\centering\n",
        "\\begin{tabular}{|l|l|}\n",
        "\\hline\n",
        "\\textbf{Variable}  & \\textbf{Variable Description} \\\\ \n",
        "\\hline\n",
        "SBP       & Systolic blood pressure                     \\\\ \n",
        "tobacco   & Cigarettes per day                          \\\\ \n",
        "ldl       & LDL cholesterol                             \\\\ \n",
        "adiposity & Measure of body fat                         \\\\ \n",
        "famhist   & Family history of heart disease (CHD)       \\\\ \n",
        "typea     & Score on a test of Type A personality       \\\\ \n",
        "obesity   & Body Mass Index                             \\\\ \n",
        "alcohol   & Ounces per day                              \\\\ \n",
        "age       & Age                                         \\\\ \n",
        "chd       & Coronary Heart Disease; 1=present, 0=absent \\\\ \n",
        "\\hline\n",
        "\\end{tabular}\n",
        "\\caption{Variable Meanings}\n",
        "\\end{table*}\n",
        "\n",
        "```"
      ],
      "id": "fc628ad1"
    }
  ],
  "metadata": {
    "kernelspec": {
      "name": "gpu_kernel",
      "language": "python",
      "display_name": "gpu kernel"
    }
  },
  "nbformat": 4,
  "nbformat_minor": 5
}